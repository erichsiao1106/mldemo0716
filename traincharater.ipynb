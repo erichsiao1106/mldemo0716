{
  "nbformat": 4,
  "nbformat_minor": 0,
  "metadata": {
    "colab": {
      "name": "traincharater.ipynb",
      "provenance": [],
      "toc_visible": true,
      "authorship_tag": "ABX9TyOTrDdaEKDPYcVtKsBL87Zq",
      "include_colab_link": true
    },
    "kernelspec": {
      "name": "python3",
      "display_name": "Python 3"
    }
  },
  "cells": [
    {
      "cell_type": "markdown",
      "metadata": {
        "id": "view-in-github",
        "colab_type": "text"
      },
      "source": [
        "<a href=\"https://colab.research.google.com/github/erichsiao1106/mldemo0716/blob/master/traincharater.ipynb\" target=\"_parent\"><img src=\"https://colab.research.google.com/assets/colab-badge.svg\" alt=\"Open In Colab\"/></a>"
      ]
    },
    {
      "cell_type": "code",
      "metadata": {
        "id": "gJYXXccNYsQU",
        "colab_type": "code",
        "colab": {
          "base_uri": "https://localhost:8080/",
          "height": 205
        },
        "outputId": "e5ba1b3b-1ee7-4887-c418-137ed2b64a71"
      },
      "source": [
        "!pip install opencc-python-reimplemented"
      ],
      "execution_count": 1,
      "outputs": [
        {
          "output_type": "stream",
          "text": [
            "Collecting opencc-python-reimplemented\n",
            "\u001b[?25l  Downloading https://files.pythonhosted.org/packages/04/aa/02c5ffc87e2bf1da1f476d35aa4de69cad2cfc3140e37114755c454d1231/opencc-python-reimplemented-0.1.6.tar.gz (484kB)\n",
            "\r\u001b[K     |▊                               | 10kB 16.9MB/s eta 0:00:01\r\u001b[K     |█▍                              | 20kB 2.1MB/s eta 0:00:01\r\u001b[K     |██                              | 30kB 2.7MB/s eta 0:00:01\r\u001b[K     |██▊                             | 40kB 3.0MB/s eta 0:00:01\r\u001b[K     |███▍                            | 51kB 2.5MB/s eta 0:00:01\r\u001b[K     |████                            | 61kB 2.7MB/s eta 0:00:01\r\u001b[K     |████▊                           | 71kB 3.0MB/s eta 0:00:01\r\u001b[K     |█████▍                          | 81kB 3.3MB/s eta 0:00:01\r\u001b[K     |██████                          | 92kB 3.5MB/s eta 0:00:01\r\u001b[K     |██████▊                         | 102kB 3.4MB/s eta 0:00:01\r\u001b[K     |███████▍                        | 112kB 3.4MB/s eta 0:00:01\r\u001b[K     |████████▏                       | 122kB 3.4MB/s eta 0:00:01\r\u001b[K     |████████▉                       | 133kB 3.4MB/s eta 0:00:01\r\u001b[K     |█████████▌                      | 143kB 3.4MB/s eta 0:00:01\r\u001b[K     |██████████▏                     | 153kB 3.4MB/s eta 0:00:01\r\u001b[K     |██████████▉                     | 163kB 3.4MB/s eta 0:00:01\r\u001b[K     |███████████▌                    | 174kB 3.4MB/s eta 0:00:01\r\u001b[K     |████████████▏                   | 184kB 3.4MB/s eta 0:00:01\r\u001b[K     |████████████▉                   | 194kB 3.4MB/s eta 0:00:01\r\u001b[K     |█████████████▌                  | 204kB 3.4MB/s eta 0:00:01\r\u001b[K     |██████████████▏                 | 215kB 3.4MB/s eta 0:00:01\r\u001b[K     |██████████████▉                 | 225kB 3.4MB/s eta 0:00:01\r\u001b[K     |███████████████▌                | 235kB 3.4MB/s eta 0:00:01\r\u001b[K     |████████████████▎               | 245kB 3.4MB/s eta 0:00:01\r\u001b[K     |█████████████████               | 256kB 3.4MB/s eta 0:00:01\r\u001b[K     |█████████████████▋              | 266kB 3.4MB/s eta 0:00:01\r\u001b[K     |██████████████████▎             | 276kB 3.4MB/s eta 0:00:01\r\u001b[K     |███████████████████             | 286kB 3.4MB/s eta 0:00:01\r\u001b[K     |███████████████████▋            | 296kB 3.4MB/s eta 0:00:01\r\u001b[K     |████████████████████▎           | 307kB 3.4MB/s eta 0:00:01\r\u001b[K     |█████████████████████           | 317kB 3.4MB/s eta 0:00:01\r\u001b[K     |█████████████████████▋          | 327kB 3.4MB/s eta 0:00:01\r\u001b[K     |██████████████████████▎         | 337kB 3.4MB/s eta 0:00:01\r\u001b[K     |███████████████████████         | 348kB 3.4MB/s eta 0:00:01\r\u001b[K     |███████████████████████▊        | 358kB 3.4MB/s eta 0:00:01\r\u001b[K     |████████████████████████▍       | 368kB 3.4MB/s eta 0:00:01\r\u001b[K     |█████████████████████████       | 378kB 3.4MB/s eta 0:00:01\r\u001b[K     |█████████████████████████▊      | 389kB 3.4MB/s eta 0:00:01\r\u001b[K     |██████████████████████████▍     | 399kB 3.4MB/s eta 0:00:01\r\u001b[K     |███████████████████████████     | 409kB 3.4MB/s eta 0:00:01\r\u001b[K     |███████████████████████████▊    | 419kB 3.4MB/s eta 0:00:01\r\u001b[K     |████████████████████████████▍   | 430kB 3.4MB/s eta 0:00:01\r\u001b[K     |█████████████████████████████   | 440kB 3.4MB/s eta 0:00:01\r\u001b[K     |█████████████████████████████▊  | 450kB 3.4MB/s eta 0:00:01\r\u001b[K     |██████████████████████████████▍ | 460kB 3.4MB/s eta 0:00:01\r\u001b[K     |███████████████████████████████ | 471kB 3.4MB/s eta 0:00:01\r\u001b[K     |███████████████████████████████▉| 481kB 3.4MB/s eta 0:00:01\r\u001b[K     |████████████████████████████████| 491kB 3.4MB/s \n",
            "\u001b[?25hBuilding wheels for collected packages: opencc-python-reimplemented\n",
            "  Building wheel for opencc-python-reimplemented (setup.py) ... \u001b[?25l\u001b[?25hdone\n",
            "  Created wheel for opencc-python-reimplemented: filename=opencc_python_reimplemented-0.1.6-py2.py3-none-any.whl size=486136 sha256=962e22058110690ad505d77b3806232bed2a69ce46a96a8bb82b672e8919ec96\n",
            "  Stored in directory: /root/.cache/pip/wheels/54/8a/0f/405db0ba3f02d9af8211422d3ae94c47b3296256f168ac1e68\n",
            "Successfully built opencc-python-reimplemented\n",
            "Installing collected packages: opencc-python-reimplemented\n",
            "Successfully installed opencc-python-reimplemented-0.1.6\n"
          ],
          "name": "stdout"
        }
      ]
    },
    {
      "cell_type": "code",
      "metadata": {
        "id": "CV_tFXttZeVw",
        "colab_type": "code",
        "colab": {
          "base_uri": "https://localhost:8080/",
          "height": 52
        },
        "outputId": "0fd8f6bf-3078-45a4-9056-351521ed077e"
      },
      "source": [
        "from opencc import OpenCC\n",
        "cc = OpenCC('s2tw')  # convert from Simplified Chinese to Traditional Chinese\n",
        "# can also set conversion by calling set_conversion\n",
        "# cc.set_conversion('s2twp')\n",
        "to_convert = \"\"\"沒毛病你说我不小心踢死的那只野狗，是人面犬？\n",
        "\n",
        "我公寓里可爱的泽田小姐，是裂口女？\n",
        "\n",
        "经常被我修理的那些稀奇古怪的人，是怨灵？\n",
        "\n",
        "就连我租的公寓，也是出了名的凶宅？\n",
        "\n",
        "拜托，你以为在我工作时间穿着巫女服冲过来，我就会相信你？\n",
        "\n",
        "本人可是坚定的无神主义者。\"\"\"\n",
        "converted = cc.convert(to_convert)\n",
        "converted"
      ],
      "execution_count": 9,
      "outputs": [
        {
          "output_type": "execute_result",
          "data": {
            "application/vnd.google.colaboratory.intrinsic": {
              "type": "string"
            },
            "text/plain": [
              "'沒毛病你說我不小心踢死的那隻野狗，是人面犬？\\n\\n我公寓裡可愛的澤田小姐，是裂口女？\\n\\n經常被我修理的那些稀奇古怪的人，是怨靈？\\n\\n就連我租的公寓，也是出了名的凶宅？\\n\\n拜託，你以為在我工作時間穿著巫女服衝過來，我就會相信你？\\n\\n本人可是堅定的無神主義者。'"
            ]
          },
          "metadata": {
            "tags": []
          },
          "execution_count": 9
        }
      ]
    },
    {
      "cell_type": "code",
      "metadata": {
        "id": "rPXBpV12a1-N",
        "colab_type": "code",
        "colab": {
          "base_uri": "https://localhost:8080/",
          "height": 69
        },
        "outputId": "e8924b93-2f86-4d72-ea25-686ee528c01f"
      },
      "source": [
        "import jieba\n",
        "news =(\"\"\"有沒毛病你说我不小心踢死的那只野狗，是人面犬？\n",
        "\n",
        "我公寓里可爱的泽田小姐，是裂口女？\n",
        "\n",
        "经常被我修理的那些稀奇古怪的人，是怨灵？\n",
        "\n",
        "就连我租的公寓，也是出了名的凶宅？\n",
        "\n",
        "拜托，你以为在我工作时间穿着巫女服冲过来，我就会相信你？\n",
        "\n",
        "本人可是坚定的无神主义者。\"\"\")\n",
        "# list(jieba.cut(news))\n",
        "\" \".join(jieba.cut(news))"
      ],
      "execution_count": 11,
      "outputs": [
        {
          "output_type": "execute_result",
          "data": {
            "application/vnd.google.colaboratory.intrinsic": {
              "type": "string"
            },
            "text/plain": [
              "'有 沒 毛病 你 说 我 不 小心 踢死 的 那 只 野狗 ， 是 人面 犬 ？ \\n \\n 我 公寓 里 可爱 的 泽田 小姐 ， 是 裂口 女 ？ \\n \\n 经常 被 我 修理 的 那些 稀奇古怪 的 人 ， 是 怨灵 ？ \\n \\n 就 连 我 租 的 公寓 ， 也 是 出了名 的 凶宅 ？ \\n \\n 拜托 ， 你 以为 在 我 工作 时间 穿着 巫女 服 冲过来 ， 我 就 会 相信 你 ？ \\n \\n 本人 可是 坚定 的 无神 主义者 。'"
            ]
          },
          "metadata": {
            "tags": []
          },
          "execution_count": 11
        }
      ]
    },
    {
      "cell_type": "code",
      "metadata": {
        "id": "O8pNFYtxfkqP",
        "colab_type": "code",
        "colab": {
          "base_uri": "https://localhost:8080/",
          "height": 136
        },
        "outputId": "6006d666-cd51-40b1-8a1c-54a36d59e292"
      },
      "source": [
        "from urllib.request import urlretrieve\n",
        "\n",
        "url = \"https://github.com/fxsjy/jieba/raw/master/extra_dict/dict.txt.big\"\n",
        "urlretrieve( url , \"dict.txt.big\")\n",
        "jieba.set_dictionary(\"dict.txt.big\")\n",
        "jieba.load_userdict(\"mydict.txt\")\n",
        "\" \".join(jieba.cut(news))\n"
      ],
      "execution_count": 14,
      "outputs": [
        {
          "output_type": "stream",
          "text": [
            "Building prefix dict from /content/dict.txt.big ...\n",
            "Dumping model to file cache /tmp/jieba.u501edca284da514cb68b53a20324f4e3.cache\n",
            "Loading model cost 1.719 seconds.\n",
            "Prefix dict has been built successfully.\n"
          ],
          "name": "stderr"
        },
        {
          "output_type": "execute_result",
          "data": {
            "application/vnd.google.colaboratory.intrinsic": {
              "type": "string"
            },
            "text/plain": [
              "'有 沒 毛病 你 说 我 不 小心 踢死 的 那 只 野狗 ， 是 人面犬 ？ \\n \\n 我 公寓 里 可爱 的 泽田 小姐 ， 是 裂口 女 ？ \\n \\n 经常 被 我 修理 的 那些 稀奇古怪 的 人 ， 是 怨灵 ？ \\n \\n 就 连 我 租 的 公寓 ， 也 是 出了名的 凶宅 ？ \\n \\n 拜托 ， 你 以为 在 我 工作 时间 穿着 巫女 服 冲过来 ， 我 就 会 相信 你 ？ \\n \\n 本人 可是 坚定 的 无神 主义者 。'"
            ]
          },
          "metadata": {
            "tags": []
          },
          "execution_count": 14
        }
      ]
    }
  ]
}